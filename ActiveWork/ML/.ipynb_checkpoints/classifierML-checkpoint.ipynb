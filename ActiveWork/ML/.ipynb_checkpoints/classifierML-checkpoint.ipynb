{
 "cells": [
  {
   "cell_type": "markdown",
   "metadata": {},
   "source": [
    "# Classifying Stocks Using Machine Learning\n",
    "## Classifying Stock Direction\n",
    "<hr>\n",
    "\n",
    "The purpose of this notebook is to test machine learning techniques on our current dataset. \n",
    "\n",
    "### Objectives\n",
    " - Remove columns not necessary to ML\n",
    " - develop pipeline to normalize numeric data\n",
    " - run multiple classifications\n",
    " - review accuracy of predictions\n",
    " - review the weights of classifiers"
   ]
  },
  {
   "cell_type": "code",
   "execution_count": 1,
   "metadata": {},
   "outputs": [],
   "source": [
    "import math\n",
    "import os\n",
    "import requests\n",
    "from datetime import datetime, timedelta\n",
    "import time\n",
    "import warnings\n",
    "import pandas as pd\n",
    "import numpy as np\n",
    "from collections import Counter "
   ]
  },
  {
   "cell_type": "code",
   "execution_count": 16,
   "metadata": {},
   "outputs": [],
   "source": [
    "df = pd.read_hdf('../../Data/stocksCleaned.h5')"
   ]
  },
  {
   "cell_type": "code",
   "execution_count": 17,
   "metadata": {},
   "outputs": [
    {
     "data": {
      "text/html": [
       "<div>\n",
       "<style scoped>\n",
       "    .dataframe tbody tr th:only-of-type {\n",
       "        vertical-align: middle;\n",
       "    }\n",
       "\n",
       "    .dataframe tbody tr th {\n",
       "        vertical-align: top;\n",
       "    }\n",
       "\n",
       "    .dataframe thead th {\n",
       "        text-align: right;\n",
       "    }\n",
       "</style>\n",
       "<table border=\"1\" class=\"dataframe\">\n",
       "  <thead>\n",
       "    <tr style=\"text-align: right;\">\n",
       "      <th></th>\n",
       "      <th>ticker</th>\n",
       "      <th>date</th>\n",
       "      <th>headline</th>\n",
       "      <th>news_sentiment_score</th>\n",
       "      <th>source</th>\n",
       "      <th>url</th>\n",
       "      <th>amount_of_articles</th>\n",
       "      <th>open</th>\n",
       "      <th>close</th>\n",
       "      <th>volume</th>\n",
       "      <th>social_sentiments</th>\n",
       "      <th>mentions</th>\n",
       "      <th>news_sentiment</th>\n",
       "      <th>close_better</th>\n",
       "      <th>tomorrow_better</th>\n",
       "    </tr>\n",
       "  </thead>\n",
       "  <tbody>\n",
       "    <tr>\n",
       "      <th>0</th>\n",
       "      <td>FB</td>\n",
       "      <td>2016-08-09</td>\n",
       "      <td>[Onetime Home of Warner Bros.’ Harry Warner As...</td>\n",
       "      <td>3.00</td>\n",
       "      <td>[DowJones]</td>\n",
       "      <td>[https://finnhub.io/api/news?id=7dbe5db9757dda...</td>\n",
       "      <td>1</td>\n",
       "      <td>125.340</td>\n",
       "      <td>125.06</td>\n",
       "      <td>19620967</td>\n",
       "      <td>-0.199921</td>\n",
       "      <td>0</td>\n",
       "      <td>0.500</td>\n",
       "      <td>0</td>\n",
       "      <td>1</td>\n",
       "    </tr>\n",
       "    <tr>\n",
       "      <th>1</th>\n",
       "      <td>FB</td>\n",
       "      <td>2021-03-15</td>\n",
       "      <td>[Rupert Murdoch's News Corp strikes deal as Fa...</td>\n",
       "      <td>2.00</td>\n",
       "      <td>[The Guardian, https://nypost.com, https://www...</td>\n",
       "      <td>[https://finnhub.io/api/news?id=61c0d589cb8bf9...</td>\n",
       "      <td>70</td>\n",
       "      <td>269.080</td>\n",
       "      <td>273.75</td>\n",
       "      <td>16856746</td>\n",
       "      <td>0.066288</td>\n",
       "      <td>45</td>\n",
       "      <td>0.000</td>\n",
       "      <td>1</td>\n",
       "      <td>1</td>\n",
       "    </tr>\n",
       "    <tr>\n",
       "      <th>2</th>\n",
       "      <td>FB</td>\n",
       "      <td>2021-03-16</td>\n",
       "      <td>[NetApp reformula a organização de vendas glob...</td>\n",
       "      <td>1.91</td>\n",
       "      <td>[businesswire, benzinga, businesswire, busines...</td>\n",
       "      <td>[https://finnhub.io/api/news?id=6479351ac59fa2...</td>\n",
       "      <td>89</td>\n",
       "      <td>276.085</td>\n",
       "      <td>279.28</td>\n",
       "      <td>22437665</td>\n",
       "      <td>-0.339269</td>\n",
       "      <td>85</td>\n",
       "      <td>-0.045</td>\n",
       "      <td>1</td>\n",
       "      <td>1</td>\n",
       "    </tr>\n",
       "    <tr>\n",
       "      <th>3</th>\n",
       "      <td>FB</td>\n",
       "      <td>2021-03-17</td>\n",
       "      <td>[Facebook Promises More Support For Human Righ...</td>\n",
       "      <td>1.89</td>\n",
       "      <td>[https://www.forbes.com, businesswire, busines...</td>\n",
       "      <td>[https://finnhub.io/api/news?id=ad0559e9f8ae60...</td>\n",
       "      <td>58</td>\n",
       "      <td>275.705</td>\n",
       "      <td>284.01</td>\n",
       "      <td>21315044</td>\n",
       "      <td>-0.589213</td>\n",
       "      <td>135</td>\n",
       "      <td>-0.055</td>\n",
       "      <td>1</td>\n",
       "      <td>0</td>\n",
       "    </tr>\n",
       "    <tr>\n",
       "      <th>4</th>\n",
       "      <td>FB</td>\n",
       "      <td>2021-03-18</td>\n",
       "      <td>[Take A Sneak Peek At The Weirdly-Shaped New P...</td>\n",
       "      <td>1.85</td>\n",
       "      <td>[benzinga, benzinga, benzinga, businesswire, b...</td>\n",
       "      <td>[https://finnhub.io/api/news?id=e851ef47ee28e6...</td>\n",
       "      <td>77</td>\n",
       "      <td>279.870</td>\n",
       "      <td>278.62</td>\n",
       "      <td>18754853</td>\n",
       "      <td>-0.361794</td>\n",
       "      <td>534</td>\n",
       "      <td>-0.075</td>\n",
       "      <td>0</td>\n",
       "      <td>1</td>\n",
       "    </tr>\n",
       "  </tbody>\n",
       "</table>\n",
       "</div>"
      ],
      "text/plain": [
       "  ticker        date                                           headline  \\\n",
       "0     FB  2016-08-09  [Onetime Home of Warner Bros.’ Harry Warner As...   \n",
       "1     FB  2021-03-15  [Rupert Murdoch's News Corp strikes deal as Fa...   \n",
       "2     FB  2021-03-16  [NetApp reformula a organização de vendas glob...   \n",
       "3     FB  2021-03-17  [Facebook Promises More Support For Human Righ...   \n",
       "4     FB  2021-03-18  [Take A Sneak Peek At The Weirdly-Shaped New P...   \n",
       "\n",
       "   news_sentiment_score                                             source  \\\n",
       "0                  3.00                                         [DowJones]   \n",
       "1                  2.00  [The Guardian, https://nypost.com, https://www...   \n",
       "2                  1.91  [businesswire, benzinga, businesswire, busines...   \n",
       "3                  1.89  [https://www.forbes.com, businesswire, busines...   \n",
       "4                  1.85  [benzinga, benzinga, benzinga, businesswire, b...   \n",
       "\n",
       "                                                 url  amount_of_articles  \\\n",
       "0  [https://finnhub.io/api/news?id=7dbe5db9757dda...                   1   \n",
       "1  [https://finnhub.io/api/news?id=61c0d589cb8bf9...                  70   \n",
       "2  [https://finnhub.io/api/news?id=6479351ac59fa2...                  89   \n",
       "3  [https://finnhub.io/api/news?id=ad0559e9f8ae60...                  58   \n",
       "4  [https://finnhub.io/api/news?id=e851ef47ee28e6...                  77   \n",
       "\n",
       "      open   close    volume  social_sentiments  mentions  news_sentiment  \\\n",
       "0  125.340  125.06  19620967          -0.199921         0           0.500   \n",
       "1  269.080  273.75  16856746           0.066288        45           0.000   \n",
       "2  276.085  279.28  22437665          -0.339269        85          -0.045   \n",
       "3  275.705  284.01  21315044          -0.589213       135          -0.055   \n",
       "4  279.870  278.62  18754853          -0.361794       534          -0.075   \n",
       "\n",
       "   close_better  tomorrow_better  \n",
       "0             0                1  \n",
       "1             1                1  \n",
       "2             1                1  \n",
       "3             1                0  \n",
       "4             0                1  "
      ]
     },
     "execution_count": 17,
     "metadata": {},
     "output_type": "execute_result"
    }
   ],
   "source": [
    "df.head()"
   ]
  },
  {
   "cell_type": "code",
   "execution_count": 18,
   "metadata": {},
   "outputs": [
    {
     "data": {
      "text/plain": [
       "Index(['ticker', 'date', 'headline', 'news_sentiment_score', 'source', 'url',\n",
       "       'amount_of_articles', 'open', 'close', 'volume', 'social_sentiments',\n",
       "       'mentions', 'news_sentiment', 'close_better', 'tomorrow_better'],\n",
       "      dtype='object')"
      ]
     },
     "execution_count": 18,
     "metadata": {},
     "output_type": "execute_result"
    }
   ],
   "source": [
    "df.columns"
   ]
  },
  {
   "cell_type": "code",
   "execution_count": 19,
   "metadata": {},
   "outputs": [],
   "source": [
    "cols = ['ticker','news_sentiment', 'amount_of_articles', \n",
    "        'open', 'close', 'volume', 'social_sentiments',\n",
    "       'mentions', 'close_better', 'tomorrow_better']"
   ]
  },
  {
   "cell_type": "code",
   "execution_count": 20,
   "metadata": {},
   "outputs": [],
   "source": [
    "df = df[cols]"
   ]
  },
  {
   "cell_type": "code",
   "execution_count": 21,
   "metadata": {},
   "outputs": [
    {
     "data": {
      "text/html": [
       "<div>\n",
       "<style scoped>\n",
       "    .dataframe tbody tr th:only-of-type {\n",
       "        vertical-align: middle;\n",
       "    }\n",
       "\n",
       "    .dataframe tbody tr th {\n",
       "        vertical-align: top;\n",
       "    }\n",
       "\n",
       "    .dataframe thead th {\n",
       "        text-align: right;\n",
       "    }\n",
       "</style>\n",
       "<table border=\"1\" class=\"dataframe\">\n",
       "  <thead>\n",
       "    <tr style=\"text-align: right;\">\n",
       "      <th></th>\n",
       "      <th>ticker</th>\n",
       "      <th>news_sentiment</th>\n",
       "      <th>amount_of_articles</th>\n",
       "      <th>open</th>\n",
       "      <th>close</th>\n",
       "      <th>volume</th>\n",
       "      <th>social_sentiments</th>\n",
       "      <th>mentions</th>\n",
       "      <th>close_better</th>\n",
       "      <th>tomorrow_better</th>\n",
       "    </tr>\n",
       "  </thead>\n",
       "  <tbody>\n",
       "    <tr>\n",
       "      <th>0</th>\n",
       "      <td>FB</td>\n",
       "      <td>0.500</td>\n",
       "      <td>1</td>\n",
       "      <td>125.340</td>\n",
       "      <td>125.06</td>\n",
       "      <td>19620967</td>\n",
       "      <td>-0.199921</td>\n",
       "      <td>0</td>\n",
       "      <td>0</td>\n",
       "      <td>1</td>\n",
       "    </tr>\n",
       "    <tr>\n",
       "      <th>1</th>\n",
       "      <td>FB</td>\n",
       "      <td>0.000</td>\n",
       "      <td>70</td>\n",
       "      <td>269.080</td>\n",
       "      <td>273.75</td>\n",
       "      <td>16856746</td>\n",
       "      <td>0.066288</td>\n",
       "      <td>45</td>\n",
       "      <td>1</td>\n",
       "      <td>1</td>\n",
       "    </tr>\n",
       "    <tr>\n",
       "      <th>2</th>\n",
       "      <td>FB</td>\n",
       "      <td>-0.045</td>\n",
       "      <td>89</td>\n",
       "      <td>276.085</td>\n",
       "      <td>279.28</td>\n",
       "      <td>22437665</td>\n",
       "      <td>-0.339269</td>\n",
       "      <td>85</td>\n",
       "      <td>1</td>\n",
       "      <td>1</td>\n",
       "    </tr>\n",
       "    <tr>\n",
       "      <th>3</th>\n",
       "      <td>FB</td>\n",
       "      <td>-0.055</td>\n",
       "      <td>58</td>\n",
       "      <td>275.705</td>\n",
       "      <td>284.01</td>\n",
       "      <td>21315044</td>\n",
       "      <td>-0.589213</td>\n",
       "      <td>135</td>\n",
       "      <td>1</td>\n",
       "      <td>0</td>\n",
       "    </tr>\n",
       "    <tr>\n",
       "      <th>4</th>\n",
       "      <td>FB</td>\n",
       "      <td>-0.075</td>\n",
       "      <td>77</td>\n",
       "      <td>279.870</td>\n",
       "      <td>278.62</td>\n",
       "      <td>18754853</td>\n",
       "      <td>-0.361794</td>\n",
       "      <td>534</td>\n",
       "      <td>0</td>\n",
       "      <td>1</td>\n",
       "    </tr>\n",
       "    <tr>\n",
       "      <th>...</th>\n",
       "      <td>...</td>\n",
       "      <td>...</td>\n",
       "      <td>...</td>\n",
       "      <td>...</td>\n",
       "      <td>...</td>\n",
       "      <td>...</td>\n",
       "      <td>...</td>\n",
       "      <td>...</td>\n",
       "      <td>...</td>\n",
       "      <td>...</td>\n",
       "    </tr>\n",
       "    <tr>\n",
       "      <th>394</th>\n",
       "      <td>UBER</td>\n",
       "      <td>-0.375</td>\n",
       "      <td>8</td>\n",
       "      <td>46.540</td>\n",
       "      <td>45.82</td>\n",
       "      <td>16874229</td>\n",
       "      <td>0.000000</td>\n",
       "      <td>1</td>\n",
       "      <td>0</td>\n",
       "      <td>1</td>\n",
       "    </tr>\n",
       "    <tr>\n",
       "      <th>395</th>\n",
       "      <td>UBER</td>\n",
       "      <td>-0.085</td>\n",
       "      <td>24</td>\n",
       "      <td>45.880</td>\n",
       "      <td>46.14</td>\n",
       "      <td>19510262</td>\n",
       "      <td>-0.472390</td>\n",
       "      <td>4</td>\n",
       "      <td>1</td>\n",
       "      <td>0</td>\n",
       "    </tr>\n",
       "    <tr>\n",
       "      <th>396</th>\n",
       "      <td>UBER</td>\n",
       "      <td>-0.050</td>\n",
       "      <td>30</td>\n",
       "      <td>44.120</td>\n",
       "      <td>44.69</td>\n",
       "      <td>51033697</td>\n",
       "      <td>-0.155166</td>\n",
       "      <td>0</td>\n",
       "      <td>1</td>\n",
       "      <td>0</td>\n",
       "    </tr>\n",
       "    <tr>\n",
       "      <th>397</th>\n",
       "      <td>UBER</td>\n",
       "      <td>0.030</td>\n",
       "      <td>18</td>\n",
       "      <td>44.380</td>\n",
       "      <td>43.46</td>\n",
       "      <td>22194938</td>\n",
       "      <td>0.195272</td>\n",
       "      <td>40</td>\n",
       "      <td>0</td>\n",
       "      <td>1</td>\n",
       "    </tr>\n",
       "    <tr>\n",
       "      <th>398</th>\n",
       "      <td>UBER</td>\n",
       "      <td>-0.060</td>\n",
       "      <td>28</td>\n",
       "      <td>44.100</td>\n",
       "      <td>43.49</td>\n",
       "      <td>26579889</td>\n",
       "      <td>-0.072947</td>\n",
       "      <td>39</td>\n",
       "      <td>0</td>\n",
       "      <td>0</td>\n",
       "    </tr>\n",
       "  </tbody>\n",
       "</table>\n",
       "<p>399 rows × 10 columns</p>\n",
       "</div>"
      ],
      "text/plain": [
       "    ticker  news_sentiment  amount_of_articles     open   close    volume  \\\n",
       "0       FB           0.500                   1  125.340  125.06  19620967   \n",
       "1       FB           0.000                  70  269.080  273.75  16856746   \n",
       "2       FB          -0.045                  89  276.085  279.28  22437665   \n",
       "3       FB          -0.055                  58  275.705  284.01  21315044   \n",
       "4       FB          -0.075                  77  279.870  278.62  18754853   \n",
       "..     ...             ...                 ...      ...     ...       ...   \n",
       "394   UBER          -0.375                   8   46.540   45.82  16874229   \n",
       "395   UBER          -0.085                  24   45.880   46.14  19510262   \n",
       "396   UBER          -0.050                  30   44.120   44.69  51033697   \n",
       "397   UBER           0.030                  18   44.380   43.46  22194938   \n",
       "398   UBER          -0.060                  28   44.100   43.49  26579889   \n",
       "\n",
       "     social_sentiments  mentions  close_better  tomorrow_better  \n",
       "0            -0.199921         0             0                1  \n",
       "1             0.066288        45             1                1  \n",
       "2            -0.339269        85             1                1  \n",
       "3            -0.589213       135             1                0  \n",
       "4            -0.361794       534             0                1  \n",
       "..                 ...       ...           ...              ...  \n",
       "394           0.000000         1             0                1  \n",
       "395          -0.472390         4             1                0  \n",
       "396          -0.155166         0             1                0  \n",
       "397           0.195272        40             0                1  \n",
       "398          -0.072947        39             0                0  \n",
       "\n",
       "[399 rows x 10 columns]"
      ]
     },
     "execution_count": 21,
     "metadata": {},
     "output_type": "execute_result"
    }
   ],
   "source": [
    "df"
   ]
  },
  {
   "cell_type": "code",
   "execution_count": 186,
   "metadata": {},
   "outputs": [],
   "source": [
    "df = df[df.ticker == 'ORCL']"
   ]
  },
  {
   "cell_type": "code",
   "execution_count": 187,
   "metadata": {},
   "outputs": [
    {
     "name": "stdout",
     "output_type": "stream",
     "text": [
      "38\n",
      "61\n",
      "0.3838383838383838\n",
      "0.6161616161616161\n"
     ]
    }
   ],
   "source": [
    "# close_better label is very balanced\n",
    "a = len(df[df['close_better'] == 0])\n",
    "b = len(df[df['close_better'] == 1])\n",
    "print(a)\n",
    "print(b)\n",
    "c=b+a\n",
    "print(a/c)\n",
    "print(b/c)"
   ]
  },
  {
   "cell_type": "code",
   "execution_count": 188,
   "metadata": {},
   "outputs": [
    {
     "name": "stdout",
     "output_type": "stream",
     "text": [
      "0\n",
      "99\n",
      "0.0\n",
      "1.0\n"
     ]
    }
   ],
   "source": [
    "# tomorrow_better label is very unbalanced\n",
    "a = len(df[df['tomorrow_better'] == 0])\n",
    "b = len(df[df['tomorrow_better'] == 1])\n",
    "print(a)\n",
    "print(b)\n",
    "c=b+a\n",
    "print(a/c)\n",
    "print(b/c)"
   ]
  },
  {
   "cell_type": "code",
   "execution_count": 209,
   "metadata": {},
   "outputs": [],
   "source": [
    "cols = ['news_sentiment', 'amount_of_articles', \n",
    "        'open', 'close', 'volume', 'social_sentiments',\n",
    "       'mentions']\n",
    "target_A = ['close_better']\n",
    "target_B = ['tomorrow_better']"
   ]
  },
  {
   "cell_type": "code",
   "execution_count": 210,
   "metadata": {},
   "outputs": [],
   "source": [
    "import pandas as pd\n",
    "from imblearn.over_sampling import SMOTE\n",
    "\n",
    "# apply SMOTE oversampling\n",
    "X = df[cols]\n",
    "y = df[target_A]\n",
    "\n",
    "smote = SMOTE(random_state=0)\n",
    "X_resampled, y_resampled = smote.fit_resample(X, y)\n",
    "\n",
    "X_resampled = pd.DataFrame(X_resampled, columns=X.columns)"
   ]
  },
  {
   "cell_type": "code",
   "execution_count": 211,
   "metadata": {},
   "outputs": [
    {
     "name": "stdout",
     "output_type": "stream",
     "text": [
      "61\n",
      "61\n"
     ]
    }
   ],
   "source": [
    "ones=0\n",
    "zeros=0\n",
    "for i in y_resampled['close_better']:\n",
    "    if i ==0:\n",
    "        zeros=zeros+1\n",
    "    if i ==1:\n",
    "        ones=ones+1\n",
    "        \n",
    "print(ones)\n",
    "print(zeros)"
   ]
  },
  {
   "cell_type": "code",
   "execution_count": 212,
   "metadata": {},
   "outputs": [],
   "source": [
    "from sklearn.pipeline import Pipeline\n",
    "from sklearn.linear_model import LogisticRegression\n",
    "from sklearn.svm import SVC\n",
    "from sklearn.naive_bayes import GaussianNB\n",
    "from sklearn.neighbors import KNeighborsClassifier\n",
    "from sklearn.preprocessing import StandardScaler\n",
    "from sklearn.compose import ColumnTransformer\n",
    "\n",
    "numeric_transformer = Pipeline(steps=[\n",
    "    ('scaler', StandardScaler())])\n",
    "\n",
    "preprocessor = ColumnTransformer(\n",
    "    transformers=[\n",
    "        ('num', numeric_transformer, cols)])"
   ]
  },
  {
   "cell_type": "code",
   "execution_count": 213,
   "metadata": {},
   "outputs": [],
   "source": [
    "# this one uses smote\n",
    "\n",
    "from sklearn.model_selection import train_test_split\n",
    "\n",
    "X_resampled['close_better'] = y_resampled\n",
    "X_resampled\n",
    "\n",
    "X_train, X_test = train_test_split(X_resampled, test_size=0.2, random_state=42, stratify = X_resampled[\"close_better\"])"
   ]
  },
  {
   "cell_type": "code",
   "execution_count": 223,
   "metadata": {},
   "outputs": [
    {
     "name": "stderr",
     "output_type": "stream",
     "text": [
      "<ipython-input-223-70ac0412a01c>:6: SettingWithCopyWarning: \n",
      "A value is trying to be set on a copy of a slice from a DataFrame.\n",
      "Try using .loc[row_indexer,col_indexer] = value instead\n",
      "\n",
      "See the caveats in the documentation: https://pandas.pydata.org/pandas-docs/stable/user_guide/indexing.html#returning-a-view-versus-a-copy\n",
      "  X_noresampled['close_better'] = y\n"
     ]
    }
   ],
   "source": [
    "# no oversampling\n",
    "\n",
    "from sklearn.model_selection import train_test_split\n",
    "\n",
    "X_noresampled = X\n",
    "X_noresampled['close_better'] = y\n",
    "\n",
    "X_train, X_test = train_test_split(X_noresampled, test_size=0.2, random_state=2, stratify = X_noresampled[\"close_better\"])"
   ]
  },
  {
   "cell_type": "code",
   "execution_count": 224,
   "metadata": {},
   "outputs": [],
   "source": [
    "y_train = X_train[\"close_better\"]\n",
    "y_test = X_test[\"close_better\"]\n",
    "\n",
    "del X_train[\"close_better\"]\n",
    "del X_test[\"close_better\"]"
   ]
  },
  {
   "cell_type": "code",
   "execution_count": 225,
   "metadata": {},
   "outputs": [],
   "source": [
    "clf = Pipeline(steps=[('preprocessor', preprocessor),\n",
    "                      ('regression', LogisticRegression())])"
   ]
  },
  {
   "cell_type": "code",
   "execution_count": 226,
   "metadata": {},
   "outputs": [
    {
     "data": {
      "text/plain": [
       "0.6"
      ]
     },
     "execution_count": 226,
     "metadata": {},
     "output_type": "execute_result"
    }
   ],
   "source": [
    "clf = LogisticRegression().fit(X_train,y_train)\n",
    "\n",
    "clf.fit(X_train, y_train)\n",
    "clf.score(X_test, y_test)"
   ]
  },
  {
   "cell_type": "code",
   "execution_count": 227,
   "metadata": {},
   "outputs": [
    {
     "data": {
      "text/html": [
       "<div>\n",
       "<style scoped>\n",
       "    .dataframe tbody tr th:only-of-type {\n",
       "        vertical-align: middle;\n",
       "    }\n",
       "\n",
       "    .dataframe tbody tr th {\n",
       "        vertical-align: top;\n",
       "    }\n",
       "\n",
       "    .dataframe thead th {\n",
       "        text-align: right;\n",
       "    }\n",
       "</style>\n",
       "<table border=\"1\" class=\"dataframe\">\n",
       "  <thead>\n",
       "    <tr style=\"text-align: right;\">\n",
       "      <th></th>\n",
       "      <th>news_sentiment</th>\n",
       "      <th>amount_of_articles</th>\n",
       "      <th>open</th>\n",
       "      <th>close</th>\n",
       "      <th>volume</th>\n",
       "      <th>social_sentiments</th>\n",
       "      <th>mentions</th>\n",
       "    </tr>\n",
       "  </thead>\n",
       "  <tbody>\n",
       "    <tr>\n",
       "      <th>146</th>\n",
       "      <td>0.000</td>\n",
       "      <td>3</td>\n",
       "      <td>78.99</td>\n",
       "      <td>78.69</td>\n",
       "      <td>6643073</td>\n",
       "      <td>-0.147627</td>\n",
       "      <td>90</td>\n",
       "    </tr>\n",
       "    <tr>\n",
       "      <th>120</th>\n",
       "      <td>0.165</td>\n",
       "      <td>3</td>\n",
       "      <td>75.25</td>\n",
       "      <td>76.12</td>\n",
       "      <td>10634896</td>\n",
       "      <td>0.087299</td>\n",
       "      <td>139</td>\n",
       "    </tr>\n",
       "    <tr>\n",
       "      <th>193</th>\n",
       "      <td>-0.145</td>\n",
       "      <td>7</td>\n",
       "      <td>90.99</td>\n",
       "      <td>87.69</td>\n",
       "      <td>12680902</td>\n",
       "      <td>-0.731201</td>\n",
       "      <td>1</td>\n",
       "    </tr>\n",
       "    <tr>\n",
       "      <th>170</th>\n",
       "      <td>-0.165</td>\n",
       "      <td>9</td>\n",
       "      <td>78.06</td>\n",
       "      <td>78.68</td>\n",
       "      <td>9845790</td>\n",
       "      <td>0.153795</td>\n",
       "      <td>263</td>\n",
       "    </tr>\n",
       "    <tr>\n",
       "      <th>136</th>\n",
       "      <td>0.200</td>\n",
       "      <td>5</td>\n",
       "      <td>77.07</td>\n",
       "      <td>78.53</td>\n",
       "      <td>15316549</td>\n",
       "      <td>-0.095840</td>\n",
       "      <td>136</td>\n",
       "    </tr>\n",
       "    <tr>\n",
       "      <th>...</th>\n",
       "      <td>...</td>\n",
       "      <td>...</td>\n",
       "      <td>...</td>\n",
       "      <td>...</td>\n",
       "      <td>...</td>\n",
       "      <td>...</td>\n",
       "      <td>...</td>\n",
       "    </tr>\n",
       "    <tr>\n",
       "      <th>172</th>\n",
       "      <td>0.045</td>\n",
       "      <td>11</td>\n",
       "      <td>78.65</td>\n",
       "      <td>77.74</td>\n",
       "      <td>9623990</td>\n",
       "      <td>-0.035580</td>\n",
       "      <td>200</td>\n",
       "    </tr>\n",
       "    <tr>\n",
       "      <th>111</th>\n",
       "      <td>-0.200</td>\n",
       "      <td>5</td>\n",
       "      <td>70.21</td>\n",
       "      <td>71.13</td>\n",
       "      <td>15183697</td>\n",
       "      <td>0.036111</td>\n",
       "      <td>0</td>\n",
       "    </tr>\n",
       "    <tr>\n",
       "      <th>121</th>\n",
       "      <td>0.000</td>\n",
       "      <td>3</td>\n",
       "      <td>76.16</td>\n",
       "      <td>76.67</td>\n",
       "      <td>13142446</td>\n",
       "      <td>0.171101</td>\n",
       "      <td>257</td>\n",
       "    </tr>\n",
       "    <tr>\n",
       "      <th>126</th>\n",
       "      <td>0.125</td>\n",
       "      <td>4</td>\n",
       "      <td>78.70</td>\n",
       "      <td>79.24</td>\n",
       "      <td>12562254</td>\n",
       "      <td>-0.063235</td>\n",
       "      <td>145</td>\n",
       "    </tr>\n",
       "    <tr>\n",
       "      <th>189</th>\n",
       "      <td>-0.335</td>\n",
       "      <td>6</td>\n",
       "      <td>86.91</td>\n",
       "      <td>86.98</td>\n",
       "      <td>15619867</td>\n",
       "      <td>0.036111</td>\n",
       "      <td>0</td>\n",
       "    </tr>\n",
       "  </tbody>\n",
       "</table>\n",
       "<p>79 rows × 7 columns</p>\n",
       "</div>"
      ],
      "text/plain": [
       "     news_sentiment  amount_of_articles   open  close    volume  \\\n",
       "146           0.000                   3  78.99  78.69   6643073   \n",
       "120           0.165                   3  75.25  76.12  10634896   \n",
       "193          -0.145                   7  90.99  87.69  12680902   \n",
       "170          -0.165                   9  78.06  78.68   9845790   \n",
       "136           0.200                   5  77.07  78.53  15316549   \n",
       "..              ...                 ...    ...    ...       ...   \n",
       "172           0.045                  11  78.65  77.74   9623990   \n",
       "111          -0.200                   5  70.21  71.13  15183697   \n",
       "121           0.000                   3  76.16  76.67  13142446   \n",
       "126           0.125                   4  78.70  79.24  12562254   \n",
       "189          -0.335                   6  86.91  86.98  15619867   \n",
       "\n",
       "     social_sentiments  mentions  \n",
       "146          -0.147627        90  \n",
       "120           0.087299       139  \n",
       "193          -0.731201         1  \n",
       "170           0.153795       263  \n",
       "136          -0.095840       136  \n",
       "..                 ...       ...  \n",
       "172          -0.035580       200  \n",
       "111           0.036111         0  \n",
       "121           0.171101       257  \n",
       "126          -0.063235       145  \n",
       "189           0.036111         0  \n",
       "\n",
       "[79 rows x 7 columns]"
      ]
     },
     "execution_count": 227,
     "metadata": {},
     "output_type": "execute_result"
    }
   ],
   "source": [
    "X_train"
   ]
  },
  {
   "cell_type": "code",
   "execution_count": 228,
   "metadata": {},
   "outputs": [],
   "source": [
    "from sklearn.model_selection import cross_val_score\n",
    "scores = cross_val_score(clf, X_test, y_test, cv=5)"
   ]
  },
  {
   "cell_type": "code",
   "execution_count": 229,
   "metadata": {},
   "outputs": [
    {
     "data": {
      "text/plain": [
       "array([0.5 , 0.5 , 0.5 , 0.75, 0.75])"
      ]
     },
     "execution_count": 229,
     "metadata": {},
     "output_type": "execute_result"
    }
   ],
   "source": [
    "scores"
   ]
  },
  {
   "cell_type": "code",
   "execution_count": 221,
   "metadata": {},
   "outputs": [
    {
     "name": "stdout",
     "output_type": "stream",
     "text": [
      "[[ 2.49125087e-15 -1.72091491e-13  6.39787715e-13  7.24323876e-13\n",
      "   2.97141338e-08  5.46491543e-15  3.04104237e-13]]\n"
     ]
    }
   ],
   "source": [
    "print(clf.coef_)"
   ]
  },
  {
   "cell_type": "code",
   "execution_count": 222,
   "metadata": {},
   "outputs": [
    {
     "data": {
      "text/plain": [
       "Counter({1: 61, 0: 38})"
      ]
     },
     "execution_count": 222,
     "metadata": {},
     "output_type": "execute_result"
    }
   ],
   "source": [
    "Counter(y['close_better'])"
   ]
  },
  {
   "cell_type": "code",
   "execution_count": null,
   "metadata": {},
   "outputs": [],
   "source": []
  }
 ],
 "metadata": {
  "kernelspec": {
   "display_name": "Python 3",
   "language": "python",
   "name": "python3"
  },
  "language_info": {
   "codemirror_mode": {
    "name": "ipython",
    "version": 3
   },
   "file_extension": ".py",
   "mimetype": "text/x-python",
   "name": "python",
   "nbconvert_exporter": "python",
   "pygments_lexer": "ipython3",
   "version": "3.8.5"
  }
 },
 "nbformat": 4,
 "nbformat_minor": 4
}
